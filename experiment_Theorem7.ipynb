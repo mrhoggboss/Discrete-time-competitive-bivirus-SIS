{
 "cells": [
  {
   "cell_type": "markdown",
   "id": "f20e2e88",
   "metadata": {},
   "source": [
    "# This is the Juypter Notebook containing simulations for Theorem 7 in the paper \"Networked Competitive Bivirus SIS Model - Analysis of the Discrete-Time Case\""
   ]
  },
  {
   "cell_type": "code",
   "execution_count": 2,
   "id": "e6f84d3f",
   "metadata": {},
   "outputs": [
    {
     "data": {
      "text/plain": [
       "<module 'bivirus' from '/Users/mrhoggboss/Documents/Rice/research/Discrete-time-competitive-bivirus-SIS/bivirus.py'>"
      ]
     },
     "execution_count": 2,
     "metadata": {},
     "output_type": "execute_result"
    }
   ],
   "source": [
    "import bivirus\n",
    "import numpy as np\n",
    "import importlib\n",
    "importlib.reload(bivirus)"
   ]
  },
  {
   "cell_type": "code",
   "execution_count": 3,
   "id": "55eb17f8",
   "metadata": {},
   "outputs": [],
   "source": [
    "def path_graph_adjacency(n, W = 1):\n",
    "    A = np.zeros((n, n))\n",
    "    for i in range(n - 1):\n",
    "        A[i, i + 1] = np.random.uniform(0, W)\n",
    "        A[i + 1, i] = np.random.uniform(0, W)\n",
    "    return A"
   ]
  },
  {
   "cell_type": "markdown",
   "id": "aa056513",
   "metadata": {},
   "source": [
    "# 1. Run single-virus epidemics for virus 1"
   ]
  },
  {
   "cell_type": "code",
   "execution_count": 4,
   "id": "748e0660",
   "metadata": {},
   "outputs": [
    {
     "name": "stdout",
     "output_type": "stream",
     "text": [
      "B1 is: [[0.3751274  0.46138459 0.         0.         0.         0.\n",
      "  0.         0.         0.         0.         0.         0.\n",
      "  0.         0.         0.         0.         0.         0.39052873\n",
      "  0.41890661 0.        ]\n",
      " [0.03200272 0.44817474 0.00884001 0.         0.47459876 0.43843119\n",
      "  0.         0.         0.40410746 0.49736991 0.         0.\n",
      "  0.         0.         0.         0.47822679 0.         0.45728766\n",
      "  0.         0.        ]\n",
      " [0.         0.01750619 0.         0.46785249 0.         0.\n",
      "  0.         0.46331034 0.         0.         0.         0.\n",
      "  0.         0.40761723 0.38143843 0.38192828 0.         0.\n",
      "  0.37745677 0.        ]\n",
      " [0.         0.43347433 0.45218733 0.         0.02421239 0.42436723\n",
      "  0.         0.         0.47381428 0.         0.         0.\n",
      "  0.41180189 0.         0.49832461 0.         0.         0.\n",
      "  0.         0.38002525]\n",
      " [0.         0.         0.         0.03850664 0.         0.46901635\n",
      "  0.         0.         0.47077985 0.47831887 0.40088728 0.\n",
      "  0.         0.         0.40727571 0.         0.4020726  0.\n",
      "  0.         0.        ]\n",
      " [0.         0.         0.         0.         0.43387792 0.\n",
      "  0.42094798 0.         0.         0.         0.         0.\n",
      "  0.43800082 0.         0.         0.         0.47813565 0.\n",
      "  0.         0.        ]\n",
      " [0.         0.         0.41360739 0.         0.         0.02601513\n",
      "  0.         0.44860927 0.41161578 0.         0.48483181 0.\n",
      "  0.         0.         0.         0.         0.         0.\n",
      "  0.         0.        ]\n",
      " [0.         0.         0.         0.49044503 0.44153564 0.47523634\n",
      "  0.00787909 0.         0.46244105 0.         0.         0.\n",
      "  0.         0.         0.46081038 0.         0.         0.\n",
      "  0.         0.        ]\n",
      " [0.         0.         0.46099501 0.         0.         0.38208102\n",
      "  0.         0.04216518 0.         0.02537462 0.         0.42332929\n",
      "  0.         0.         0.         0.         0.48433714 0.\n",
      "  0.         0.        ]\n",
      " [0.         0.42805759 0.38929108 0.39486824 0.43008986 0.47402718\n",
      "  0.         0.         0.02956151 0.         0.02076867 0.48630316\n",
      "  0.         0.         0.         0.         0.         0.4380924\n",
      "  0.         0.40952028]\n",
      " [0.         0.         0.39491744 0.         0.         0.\n",
      "  0.         0.         0.         0.02911473 0.         0.02331705\n",
      "  0.         0.         0.         0.         0.         0.\n",
      "  0.49643466 0.40269973]\n",
      " [0.         0.         0.         0.         0.         0.\n",
      "  0.         0.         0.         0.         0.032581   0.\n",
      "  0.42000745 0.         0.         0.         0.         0.49828138\n",
      "  0.         0.        ]\n",
      " [0.         0.         0.38725982 0.         0.         0.\n",
      "  0.         0.         0.37591319 0.         0.         0.0464408\n",
      "  0.         0.0295782  0.42081431 0.         0.         0.\n",
      "  0.         0.        ]\n",
      " [0.         0.         0.         0.         0.         0.\n",
      "  0.         0.         0.         0.37712567 0.         0.\n",
      "  0.02236514 0.         0.01200954 0.         0.         0.42279326\n",
      "  0.43161353 0.        ]\n",
      " [0.         0.         0.         0.         0.4360353  0.\n",
      "  0.         0.42316632 0.         0.         0.         0.42119056\n",
      "  0.42675048 0.46312731 0.         0.01501444 0.         0.\n",
      "  0.         0.        ]\n",
      " [0.         0.42263055 0.         0.47044681 0.         0.\n",
      "  0.         0.         0.         0.         0.         0.\n",
      "  0.         0.         0.53144025 0.         0.39862174 0.\n",
      "  0.4894383  0.        ]\n",
      " [0.         0.         0.         0.         0.         0.44993429\n",
      "  0.         0.48386719 0.         0.38727886 0.         0.\n",
      "  0.         0.         0.4053849  0.01655146 0.         0.0278316\n",
      "  0.         0.        ]\n",
      " [0.38709969 0.         0.         0.39834225 0.         0.\n",
      "  0.40261055 0.         0.         0.         0.41343685 0.\n",
      "  0.         0.46193531 0.         0.44980109 0.03824624 0.48207753\n",
      "  0.04874336 0.        ]\n",
      " [0.         0.         0.         0.         0.         0.\n",
      "  0.48256392 0.43375992 0.         0.         0.         0.\n",
      "  0.         0.         0.         0.         0.         0.45663537\n",
      "  0.         0.02341797]\n",
      " [0.         0.         0.         0.         0.42489938 0.\n",
      "  0.         0.         0.41751007 0.46877288 0.         0.\n",
      "  0.         0.         0.         0.         0.39509107 0.\n",
      "  0.01295656 0.        ]]\n"
     ]
    },
    {
     "name": "stderr",
     "output_type": "stream",
     "text": [
      "/var/folders/rd/xhnyglx96275scj4rd4lkvrr0000gn/T/ipykernel_8154/1705902124.py:19: RuntimeWarning: divide by zero encountered in matmul\n",
      "  B1 = np.diag(beta[0]) @ A1\n",
      "/var/folders/rd/xhnyglx96275scj4rd4lkvrr0000gn/T/ipykernel_8154/1705902124.py:19: RuntimeWarning: overflow encountered in matmul\n",
      "  B1 = np.diag(beta[0]) @ A1\n",
      "/var/folders/rd/xhnyglx96275scj4rd4lkvrr0000gn/T/ipykernel_8154/1705902124.py:19: RuntimeWarning: invalid value encountered in matmul\n",
      "  B1 = np.diag(beta[0]) @ A1\n"
     ]
    }
   ],
   "source": [
    "# configurations of the experiment\n",
    "config = bivirus.SimulationConfig(N=20, h=0.001, threshold=1.5, W=2, iterations=10000, tolerance=1e-6)\n",
    "\n",
    "# random seed for reproducibility\n",
    "seed = 1049\n",
    "np.random.seed(seed)\n",
    "\n",
    "# parameters of the model\n",
    "A1_raw = np.random.uniform(0, config.W, (config.N, config.N))\n",
    "# Set all values in A below 'threshold' to zero\n",
    "A1_thres = np.where(A1_raw < config.threshold, 0, A1_raw)\n",
    "\n",
    "# add the path graph adjacency matrix to ensure strong connectivity\n",
    "A1 = A1_thres + path_graph_adjacency(config.N, W=config.W/10)\n",
    "beta = [\n",
    "    0.25 * np.ones(config.N),\n",
    "    np.ones(config.N)\n",
    "]\n",
    "B1 = np.diag(beta[0]) @ A1\n",
    "\n",
    "delta = [\n",
    "    np.ones(config.N),\n",
    "    np.ones(config.N)\n",
    "]\n",
    "print(\"B1 is:\", B1)"
   ]
  },
  {
   "cell_type": "code",
   "execution_count": 10,
   "id": "c449d4b6",
   "metadata": {},
   "outputs": [
    {
     "name": "stdout",
     "output_type": "stream",
     "text": [
      "x_bar Converged at iteration 8767\n",
      "z:  [0.47 0.65 0.56 0.61 0.57 0.46 0.47 0.55 0.46 0.65 0.4  0.32 0.38 0.41\n",
      " 0.49 0.55 0.49 0.61 0.43 0.48]\n"
     ]
    }
   ],
   "source": [
    "# calculate the single virus equilibrium for virus 1\n",
    "z = bivirus.x_bar(0.1 * np.ones(config.N), B1, delta[0], config)\n",
    "print(\"z: \", z.round(2))"
   ]
  },
  {
   "cell_type": "markdown",
   "id": "0e753cf2",
   "metadata": {},
   "source": [
    "# 2. Find an irreducible matrix $C$ such that $Cz=z$, $C$ is irreducible, and $C$ has spectral radius 1"
   ]
  },
  {
   "cell_type": "markdown",
   "id": "b334b8af",
   "metadata": {},
   "source": [
    "Notice that none of the components of $z$ can be zero such a $C$ to exist, due to the Perron-Frobenius Theorem"
   ]
  },
  {
   "cell_type": "code",
   "execution_count": 6,
   "id": "ffb1b587",
   "metadata": {},
   "outputs": [
    {
     "name": "stdout",
     "output_type": "stream",
     "text": [
      "C @ z is: [0.47125379 0.64636791 0.56083302 0.60726077 0.56865185 0.45736644\n",
      " 0.46500604 0.54730808 0.45784852 0.64765229 0.39563445 0.32263491\n",
      " 0.38424521 0.41178374 0.49440242 0.55053808 0.48650408 0.60702379\n",
      " 0.42853673 0.48287183]\n",
      "z is: [0.47125379 0.64636791 0.56083302 0.60726077 0.56865185 0.45736644\n",
      " 0.46500604 0.54730808 0.45784852 0.64765229 0.39563445 0.32263491\n",
      " 0.38424521 0.41178374 0.49440242 0.55053808 0.48650408 0.60702379\n",
      " 0.42853673 0.48287183]\n",
      "C has spectral radius: 0.9999999999999997\n",
      "C satisfies the assumptions of Theorem 7\n"
     ]
    }
   ],
   "source": [
    "C = bivirus.find_C(z)\n",
    "# verifying the properties of C\n",
    "bivirus.verify_C(z, C)"
   ]
  },
  {
   "cell_type": "code",
   "execution_count": 7,
   "id": "33d32af8",
   "metadata": {},
   "outputs": [
    {
     "name": "stdout",
     "output_type": "stream",
     "text": [
      "[[0.08918262 0.08918262 0.08918262 0.08918262 0.08918262 0.08918262\n",
      "  0.08918262 0.08918262 0.08918262 0.08918262 0.08918262 0.08918262\n",
      "  0.08918262 0.08918262 0.08918262 0.08918262 0.08918262 0.08918262\n",
      "  0.08918262 0.08918262]\n",
      " [0.18289455 0.18289455 0.18289455 0.18289455 0.18289455 0.18289455\n",
      "  0.18289455 0.18289455 0.18289455 0.18289455 0.18289455 0.18289455\n",
      "  0.18289455 0.18289455 0.18289455 0.18289455 0.18289455 0.18289455\n",
      "  0.18289455 0.18289455]\n",
      " [0.12778402 0.12778402 0.12778402 0.12778402 0.12778402 0.12778402\n",
      "  0.12778402 0.12778402 0.12778402 0.12778402 0.12778402 0.12778402\n",
      "  0.12778402 0.12778402 0.12778402 0.12778402 0.12778402 0.12778402\n",
      "  0.12778402 0.12778402]\n",
      " [0.15471898 0.15471898 0.15471898 0.15471898 0.15471898 0.15471898\n",
      "  0.15471898 0.15471898 0.15471898 0.15471898 0.15471898 0.15471898\n",
      "  0.15471898 0.15471898 0.15471898 0.15471898 0.15471898 0.15471898\n",
      "  0.15471898 0.15471898]\n",
      " [0.13191408 0.13191408 0.13191408 0.13191408 0.13191408 0.13191408\n",
      "  0.13191408 0.13191408 0.13191408 0.13191408 0.13191408 0.13191408\n",
      "  0.13191408 0.13191408 0.13191408 0.13191408 0.13191408 0.13191408\n",
      "  0.13191408 0.13191408]\n",
      " [0.08433936 0.08433936 0.08433936 0.08433936 0.08433936 0.08433936\n",
      "  0.08433936 0.08433936 0.08433936 0.08433936 0.08433936 0.08433936\n",
      "  0.08433936 0.08433936 0.08433936 0.08433936 0.08433936 0.08433936\n",
      "  0.08433936 0.08433936]\n",
      " [0.08697258 0.08697258 0.08697258 0.08697258 0.08697258 0.08697258\n",
      "  0.08697258 0.08697258 0.08697258 0.08697258 0.08697258 0.08697258\n",
      "  0.08697258 0.08697258 0.08697258 0.08697258 0.08697258 0.08697258\n",
      "  0.08697258 0.08697258]\n",
      " [0.12097671 0.12097671 0.12097671 0.12097671 0.12097671 0.12097671\n",
      "  0.12097671 0.12097671 0.12097671 0.12097671 0.12097671 0.12097671\n",
      "  0.12097671 0.12097671 0.12097671 0.12097671 0.12097671 0.12097671\n",
      "  0.12097671 0.12097671]\n",
      " [0.08450333 0.08450333 0.08450333 0.08450333 0.08450333 0.08450333\n",
      "  0.08450333 0.08450333 0.08450333 0.08450333 0.08450333 0.08450333\n",
      "  0.08450333 0.08450333 0.08450333 0.08450333 0.08450333 0.08450333\n",
      "  0.08450333 0.08450333]\n",
      " [0.18392599 0.18392599 0.18392599 0.18392599 0.18392599 0.18392599\n",
      "  0.18392599 0.18392599 0.18392599 0.18392599 0.18392599 0.18392599\n",
      "  0.18392599 0.18392599 0.18392599 0.18392599 0.18392599 0.18392599\n",
      "  0.18392599 0.18392599]\n",
      " [0.06550388 0.06550388 0.06550388 0.06550388 0.06550388 0.06550388\n",
      "  0.06550388 0.06550388 0.06550388 0.06550388 0.06550388 0.06550388\n",
      "  0.06550388 0.06550388 0.06550388 0.06550388 0.06550388 0.06550388\n",
      "  0.06550388 0.06550388]\n",
      " [0.04766079 0.04766079 0.04766079 0.04766079 0.04766079 0.04766079\n",
      "  0.04766079 0.04766079 0.04766079 0.04766079 0.04766079 0.04766079\n",
      "  0.04766079 0.04766079 0.04766079 0.04766079 0.04766079 0.04766079\n",
      "  0.04766079 0.04766079]\n",
      " [0.0624415  0.0624415  0.0624415  0.0624415  0.0624415  0.0624415\n",
      "  0.0624415  0.0624415  0.0624415  0.0624415  0.0624415  0.0624415\n",
      "  0.0624415  0.0624415  0.0624415  0.0624415  0.0624415  0.0624415\n",
      "  0.0624415  0.0624415 ]\n",
      " [0.07004947 0.07004947 0.07004947 0.07004947 0.07004947 0.07004947\n",
      "  0.07004947 0.07004947 0.07004947 0.07004947 0.07004947 0.07004947\n",
      "  0.07004947 0.07004947 0.07004947 0.07004947 0.07004947 0.07004947\n",
      "  0.07004947 0.07004947]\n",
      " [0.09784717 0.09784717 0.09784717 0.09784717 0.09784717 0.09784717\n",
      "  0.09784717 0.09784717 0.09784717 0.09784717 0.09784717 0.09784717\n",
      "  0.09784717 0.09784717 0.09784717 0.09784717 0.09784717 0.09784717\n",
      "  0.09784717 0.09784717]\n",
      " [0.12256518 0.12256518 0.12256518 0.12256518 0.12256518 0.12256518\n",
      "  0.12256518 0.12256518 0.12256518 0.12256518 0.12256518 0.12256518\n",
      "  0.12256518 0.12256518 0.12256518 0.12256518 0.12256518 0.12256518\n",
      "  0.12256518 0.12256518]\n",
      " [0.09480301 0.09480301 0.09480301 0.09480301 0.09480301 0.09480301\n",
      "  0.09480301 0.09480301 0.09480301 0.09480301 0.09480301 0.09480301\n",
      "  0.09480301 0.09480301 0.09480301 0.09480301 0.09480301 0.09480301\n",
      "  0.09480301 0.09480301]\n",
      " [0.15456534 0.15456534 0.15456534 0.15456534 0.15456534 0.15456534\n",
      "  0.15456534 0.15456534 0.15456534 0.15456534 0.15456534 0.15456534\n",
      "  0.15456534 0.15456534 0.15456534 0.15456534 0.15456534 0.15456534\n",
      "  0.15456534 0.15456534]\n",
      " [0.07503647 0.07503647 0.07503647 0.07503647 0.07503647 0.07503647\n",
      "  0.07503647 0.07503647 0.07503647 0.07503647 0.07503647 0.07503647\n",
      "  0.07503647 0.07503647 0.07503647 0.07503647 0.07503647 0.07503647\n",
      "  0.07503647 0.07503647]\n",
      " [0.0934343  0.0934343  0.0934343  0.0934343  0.0934343  0.0934343\n",
      "  0.0934343  0.0934343  0.0934343  0.0934343  0.0934343  0.0934343\n",
      "  0.0934343  0.0934343  0.0934343  0.0934343  0.0934343  0.0934343\n",
      "  0.0934343  0.0934343 ]]\n"
     ]
    },
    {
     "name": "stderr",
     "output_type": "stream",
     "text": [
      "/var/folders/rd/xhnyglx96275scj4rd4lkvrr0000gn/T/ipykernel_8154/1324593732.py:1: RuntimeWarning: divide by zero encountered in matmul\n",
      "  A2 = np.linalg.inv(np.eye(config.N) - np.diag(z)) @ C\n",
      "/var/folders/rd/xhnyglx96275scj4rd4lkvrr0000gn/T/ipykernel_8154/1324593732.py:1: RuntimeWarning: overflow encountered in matmul\n",
      "  A2 = np.linalg.inv(np.eye(config.N) - np.diag(z)) @ C\n",
      "/var/folders/rd/xhnyglx96275scj4rd4lkvrr0000gn/T/ipykernel_8154/1324593732.py:1: RuntimeWarning: invalid value encountered in matmul\n",
      "  A2 = np.linalg.inv(np.eye(config.N) - np.diag(z)) @ C\n",
      "/var/folders/rd/xhnyglx96275scj4rd4lkvrr0000gn/T/ipykernel_8154/1324593732.py:2: RuntimeWarning: divide by zero encountered in matmul\n",
      "  B2 = np.diag(beta[1]) @ A2\n",
      "/var/folders/rd/xhnyglx96275scj4rd4lkvrr0000gn/T/ipykernel_8154/1324593732.py:2: RuntimeWarning: overflow encountered in matmul\n",
      "  B2 = np.diag(beta[1]) @ A2\n",
      "/var/folders/rd/xhnyglx96275scj4rd4lkvrr0000gn/T/ipykernel_8154/1324593732.py:2: RuntimeWarning: invalid value encountered in matmul\n",
      "  B2 = np.diag(beta[1]) @ A2\n"
     ]
    }
   ],
   "source": [
    "A2 = np.linalg.inv(np.eye(config.N) - np.diag(z)) @ C\n",
    "B2 = np.diag(beta[1]) @ A2\n",
    "B = [B1, B2]\n",
    "print(B2)"
   ]
  },
  {
   "cell_type": "code",
   "execution_count": 8,
   "id": "7f183c73",
   "metadata": {},
   "outputs": [
    {
     "name": "stderr",
     "output_type": "stream",
     "text": [
      "/Users/mrhoggboss/Documents/Rice/research/Discrete-time-competitive-bivirus-SIS/bivirus.py:32: RuntimeWarning: divide by zero encountered in matmul\n",
      "  x[0] = x[0] + h * ((np.eye(N) - sum_of_x) @ B[0] - np.diag(delta[0])) @ x[0]\n",
      "/Users/mrhoggboss/Documents/Rice/research/Discrete-time-competitive-bivirus-SIS/bivirus.py:32: RuntimeWarning: overflow encountered in matmul\n",
      "  x[0] = x[0] + h * ((np.eye(N) - sum_of_x) @ B[0] - np.diag(delta[0])) @ x[0]\n",
      "/Users/mrhoggboss/Documents/Rice/research/Discrete-time-competitive-bivirus-SIS/bivirus.py:32: RuntimeWarning: invalid value encountered in matmul\n",
      "  x[0] = x[0] + h * ((np.eye(N) - sum_of_x) @ B[0] - np.diag(delta[0])) @ x[0]\n",
      "/Users/mrhoggboss/Documents/Rice/research/Discrete-time-competitive-bivirus-SIS/bivirus.py:33: RuntimeWarning: divide by zero encountered in matmul\n",
      "  x[1] = x[1] + h * ((np.eye(N) - sum_of_x) @ B[1] - np.diag(delta[1])) @ x[1]\n",
      "/Users/mrhoggboss/Documents/Rice/research/Discrete-time-competitive-bivirus-SIS/bivirus.py:33: RuntimeWarning: overflow encountered in matmul\n",
      "  x[1] = x[1] + h * ((np.eye(N) - sum_of_x) @ B[1] - np.diag(delta[1])) @ x[1]\n",
      "/Users/mrhoggboss/Documents/Rice/research/Discrete-time-competitive-bivirus-SIS/bivirus.py:33: RuntimeWarning: invalid value encountered in matmul\n",
      "  x[1] = x[1] + h * ((np.eye(N) - sum_of_x) @ B[1] - np.diag(delta[1])) @ x[1]\n"
     ]
    },
    {
     "name": "stdout",
     "output_type": "stream",
     "text": [
      "All assumptions satisfied\n",
      "Main loop Converged at iteration 4984\n",
      "spectral radius 1 is 1.0011462347620435\n",
      "spectral radius 2 is 1.0011311193297143\n",
      "x_bar Converged at iteration 8767\n",
      "x_bar Converged at iteration 5897\n",
      "det radius 1 is 1.9989999999999997\n",
      "det radius 2 is 1.9998888806182666\n",
      "This experiment satisfies Theorem:  4.4\n",
      "All assumptions satisfied\n",
      "Main loop Converged at iteration 4523\n"
     ]
    },
    {
     "name": "stderr",
     "output_type": "stream",
     "text": [
      "/Users/mrhoggboss/Documents/Rice/research/Discrete-time-competitive-bivirus-SIS/bivirus.py:402: RuntimeWarning: divide by zero encountered in matmul\n",
      "  det_radius_1 = np.max(np.abs(np.linalg.eigvals(np.eye(config.N) - config.h * np.diag(delta[1]) + (np.eye(config.N) - np.diag(x1_bar)) @ B[1])))\n",
      "/Users/mrhoggboss/Documents/Rice/research/Discrete-time-competitive-bivirus-SIS/bivirus.py:402: RuntimeWarning: overflow encountered in matmul\n",
      "  det_radius_1 = np.max(np.abs(np.linalg.eigvals(np.eye(config.N) - config.h * np.diag(delta[1]) + (np.eye(config.N) - np.diag(x1_bar)) @ B[1])))\n",
      "/Users/mrhoggboss/Documents/Rice/research/Discrete-time-competitive-bivirus-SIS/bivirus.py:402: RuntimeWarning: invalid value encountered in matmul\n",
      "  det_radius_1 = np.max(np.abs(np.linalg.eigvals(np.eye(config.N) - config.h * np.diag(delta[1]) + (np.eye(config.N) - np.diag(x1_bar)) @ B[1])))\n",
      "/Users/mrhoggboss/Documents/Rice/research/Discrete-time-competitive-bivirus-SIS/bivirus.py:403: RuntimeWarning: divide by zero encountered in matmul\n",
      "  det_radius_2 = np.max(np.abs(np.linalg.eigvals(np.eye(config.N) - config.h * np.diag(delta[0]) + (np.eye(config.N) - np.diag(x2_bar)) @ B[0])))\n",
      "/Users/mrhoggboss/Documents/Rice/research/Discrete-time-competitive-bivirus-SIS/bivirus.py:403: RuntimeWarning: overflow encountered in matmul\n",
      "  det_radius_2 = np.max(np.abs(np.linalg.eigvals(np.eye(config.N) - config.h * np.diag(delta[0]) + (np.eye(config.N) - np.diag(x2_bar)) @ B[0])))\n",
      "/Users/mrhoggboss/Documents/Rice/research/Discrete-time-competitive-bivirus-SIS/bivirus.py:403: RuntimeWarning: invalid value encountered in matmul\n",
      "  det_radius_2 = np.max(np.abs(np.linalg.eigvals(np.eye(config.N) - config.h * np.diag(delta[0]) + (np.eye(config.N) - np.diag(x2_bar)) @ B[0])))\n"
     ]
    },
    {
     "data": {
      "image/png": "[encoded data removed]",
      "text/plain": [
       "<Figure size 640x480 with 2 Axes>"
      ]
     },
     "metadata": {},
     "output_type": "display_data"
    }
   ],
   "source": [
    "x1_histories = []\n",
    "x2_histories = []\n",
    "x1_avg_histories = []\n",
    "x2_avg_histories = []\n",
    "\n",
    "x1 = 0.1 * np.ones(config.N)\n",
    "x2 = 0.4 * np.ones(config.N)\n",
    "bivirus.check_basic_assumptions(x1, x2, B, delta, config)\n",
    "results = bivirus.run_simulation(x1, x2, B, delta, config)\n",
    "print(\"This experiment satisfies Theorem: \", bivirus.check_theorem_4(B, delta, config))\n",
    "x1_histories.append(results[\"x1_history\"])\n",
    "x2_histories.append(results[\"x2_history\"])\n",
    "x1_avg_histories.append(results[\"x1_avg_history\"])\n",
    "x2_avg_histories.append(results[\"x2_avg_history\"])\n",
    "\n",
    "x1 = 0.3 * np.ones(config.N)\n",
    "x2 = 0.2 * np.ones(config.N)\n",
    "bivirus.check_basic_assumptions(x1, x2, B, delta, config)\n",
    "results = bivirus.run_simulation(x1, x2, B, delta, config)\n",
    "x1_histories.append(results[\"x1_history\"])\n",
    "x2_histories.append(results[\"x2_history\"])\n",
    "x1_avg_histories.append(results[\"x1_avg_history\"])\n",
    "x2_avg_histories.append(results[\"x2_avg_history\"])\n",
    "\n",
    "bivirus.plot_simulation_1by2(x1_avg_histories, x2_avg_histories, yscale='linear')\n"
   ]
  },
  {
   "cell_type": "code",
   "execution_count": 9,
   "id": "e5c0fc20",
   "metadata": {},
   "outputs": [
    {
     "data": {
      "image/png": "[encoded data removed]",
      "text/plain": [
       "<Figure size 640x480 with 1 Axes>"
      ]
     },
     "metadata": {},
     "output_type": "display_data"
    }
   ],
   "source": [
    "bivirus.plot_simulation_single(x1_avg_histories[0], x2_avg_histories[0], yscale='linear')"
   ]
  }
 ],
 "metadata": {
  "kernelspec": {
   "display_name": "Python 3",
   "language": "python",
   "name": "python3"
  },
  "language_info": {
   "codemirror_mode": {
    "name": "ipython",
    "version": 3
   },
   "file_extension": ".py",
   "mimetype": "text/x-python",
   "name": "python",
   "nbconvert_exporter": "python",
   "pygments_lexer": "ipython3",
   "version": "3.13.2"
  }
 },
 "nbformat": 4,
 "nbformat_minor": 5
}
